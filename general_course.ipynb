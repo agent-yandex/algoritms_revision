{
 "cells": [
  {
   "cell_type": "markdown",
   "metadata": {},
   "source": [
    "# Графы"
   ]
  },
  {
   "cell_type": "markdown",
   "metadata": {},
   "source": [
    "## Алгоритм поиска в глубину и ширину"
   ]
  },
  {
   "attachments": {
    "graph.png": {
     "image/png": "[encoded data removed]"
    }
   },
   "cell_type": "markdown",
   "metadata": {},
   "source": [
    "<u>DFS</u> - используется для прохождения по всему графу (можно осуществить при помощи рекурсии). Суть состоит в том, чтобы помещать каждую вершину графа в одну из категорий: пройденные и не пройденные.\n",
    "\n",
    "Подробнее - https://habr.com/ru/companies/otus/articles/660725/\n",
    "\n",
    "Визуальный пример графа:\n",
    "\n",
    "![graph.png](attachment:graph.png)"
   ]
  },
  {
   "cell_type": "code",
   "execution_count": 3,
   "metadata": {},
   "outputs": [
    {
     "name": "stdout",
     "output_type": "stream",
     "text": [
      "[0, 2, 4, 3, 1]\n",
      "[0, 2, 4, 3, 1]\n"
     ]
    }
   ],
   "source": [
    "from collections import deque\n",
    "\n",
    "\n",
    "def DFS(count_nodes: int, graph: list[list[int]]):\n",
    "    visited = [0] * count_nodes # список пройденных вершин\n",
    "    stack = deque([0])          # список из смежных вершин\n",
    "    result = []                 # пройденные алгоритмов вершины по порядку\n",
    "\n",
    "    # цикл не будет закончен, пока не разберем все смежные вершины\n",
    "    while stack:\n",
    "        node = stack.pop()\n",
    "        # если вершину не посещали, то посещаем ее и дополняем stack\n",
    "        if not visited[node]:\n",
    "            visited[node] = 1\n",
    "            result.append(node)\n",
    "\n",
    "            # дополнение stack смежными вершинами с node\n",
    "            for adj_node in reversed(graph[node]):\n",
    "                if not visited[adj_node]:\n",
    "                    stack.append(adj_node)\n",
    "    \n",
    "    return result\n",
    "\n",
    "\n",
    "def DFS_recurcion(count_nodes: int, graph: list[list[int]]):\n",
    "    visited = [0] * count_nodes\n",
    "    result = []\n",
    "\n",
    "    def dfs(node: int):\n",
    "        visited[node] = 1\n",
    "        result.append(node)\n",
    "\n",
    "        # проходимся по смежным вершинам node\n",
    "        for adj_node in graph[node]:\n",
    "            # если смежная вершина не посещенная запускаем рекурсию\n",
    "            if not visited[adj_node]:\n",
    "                dfs(adj_node)\n",
    "\n",
    "    # запускаем рекурсию с вершины 0\n",
    "    dfs(0)\n",
    "    return result\n",
    "\n",
    "\n",
    "# пример\n",
    "graph = [[2, 3, 1], [0], [0, 4], [0], [2]]\n",
    "print(DFS(5, graph))\n",
    "print(DFS_recurcion(5, graph))"
   ]
  }
 ],
 "metadata": {
  "kernelspec": {
   "display_name": "Python 3",
   "language": "python",
   "name": "python3"
  },
  "language_info": {
   "codemirror_mode": {
    "name": "ipython",
    "version": 3
   },
   "file_extension": ".py",
   "mimetype": "text/x-python",
   "name": "python",
   "nbconvert_exporter": "python",
   "pygments_lexer": "ipython3",
   "version": "3.12.0"
  }
 },
 "nbformat": 4,
 "nbformat_minor": 2
}
